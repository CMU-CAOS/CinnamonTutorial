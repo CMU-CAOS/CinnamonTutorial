{
 "cells": [
  {
   "cell_type": "markdown",
   "metadata": {},
   "source": [
    "# Cinnamon A Framework For Scale Out Encrypted AI\n",
    "## Notebook 1: Getting Started\n",
    "\n",
    "Welcome to the Part 1 of the tutorial on the Cinnamon Framework. The Cinnamon Framework consists of four components:\n",
    "\n",
    "1. The Cinnamon DSL and Compiler\n",
    "1. The Cinnamon Compiler\n",
    "3. The Cinnamon Emulator\n",
    "4. The Cinnamon Accelerator Simulator\n",
    "\n",
    "![image](images/Overview.jpg)\n",
    "\n",
    "Part 1 of the tutorial covers writing programs in the Cinnamon DSL, compiling them and testing the compiled outputs with the emulator. Part 2 of the tutorial looks into using the parallelization techniques and compiler optimizations presented in the Cinnamon paper and simulating them on the accelerator simulator. \n",
    "\n",
    "Author:\n",
    "- Siddharth Jayashankar (sidjay@cmu.edu)"
   ]
  },
  {
   "cell_type": "markdown",
   "metadata": {},
   "source": [
    "## Homomorphic Encryption\n",
    "Homomorphic Encryption (HE) is an advanced cryptographic technique that enables direct computation on encrypted data. There are two types of HE - Partial and Full. Partially Homomorphic Encryption enables a limited number of encrypted computations. Fully Homomorphic Encryption, on the other hand, enables unlimited computation on encrypted data.\n"
   ]
  },
  {
   "cell_type": "markdown",
   "metadata": {},
   "source": [
    "## In This Tutorial\n",
    "In this tutorial, we will be using the CKKS scheme at a 128 bit security level. CKKS is an FHE scheme that supports encrypted computation over real numbers. This makes it suitable for encrypted AI applications."
   ]
  },
  {
   "cell_type": "markdown",
   "metadata": {},
   "source": [
    "## Exercise 1: Writing an FHE Program To Add 2 Encrypted Values\n",
    "In this exercise, we will use the Cinnamon framework to write and run an FHE program to add two encrypted numbers together.\n",
    "\n",
    "![image](images/Hadd.jpg)"
   ]
  },
  {
   "cell_type": "markdown",
   "metadata": {},
   "source": [
    "### Exercise 1.1: Writing the Program in the Cinnamon DSL"
   ]
  },
  {
   "cell_type": "markdown",
   "metadata": {},
   "source": [
    "The Cinnamon Compiler is a python embedded DSL. Let's import the Cinnamon modules"
   ]
  },
  {
   "cell_type": "code",
   "execution_count": 1,
   "metadata": {},
   "outputs": [],
   "source": [
    "## Import the cinnamon modules\n",
    "from cinnamon.dsl import * # Import the Cinnamon DSL\n",
    "from cinnamon.compiler import * # Import the Cinnamon Compiler"
   ]
  },
  {
   "cell_type": "markdown",
   "metadata": {},
   "source": [
    "Now let's write a simple program to add two numbers. We first create a `CinnamonProgram` object. The first argument to the constructor is the name of the program. If you don't understand the other arguments, don't worry, these will be made clear later on. "
   ]
  },
  {
   "cell_type": "code",
   "execution_count": 2,
   "metadata": {},
   "outputs": [],
   "source": [
    "# Create a Cinnamon Program\n",
    "TOP_LEVEL=51\n",
    "add_program = CinnamonProgram(name='Add',rns_bit_size=28,num_chips=1)"
   ]
  },
  {
   "cell_type": "markdown",
   "metadata": {},
   "source": [
    "Now, we need to create two ciphertexts in the program and add them together. The constructor requires information about two attributes of the ciphertext: scale and level. We will cover these concepts in a later part of the tutorial.\n",
    "\n",
    "The Cinnamon compiler uses the information about the scale and levels provided here to type check the program. If you add values with incompatible scales and levels, the compiler will produce an error."
   ]
  },
  {
   "cell_type": "code",
   "execution_count": 3,
   "metadata": {},
   "outputs": [],
   "source": [
    "with add_program:\n",
    "    level = TOP_LEVEL\n",
    "    scale = 56 # scale in bits\n",
    "\n",
    "    # Create a CiphertextInput named \"x\" with scale and level attribute values\n",
    "    x = CiphertextInput(\"x\",scale,level)\n",
    "    # TODO Create a CiphertextInput y with the same scale and level as x\n",
    "    y = \n",
    "    # TODO: Assign z as the sum of x and y\n",
    "    z = \n",
    "    # Set the variable z to be an output of the program named 'z'\n",
    "    Output(\"z\",z) "
   ]
  },
  {
   "cell_type": "markdown",
   "metadata": {},
   "source": [
    "### Exercise 1.2 Compiling the FHE program using the Cinnamon Compiler\n",
    "Now, lets use the Cinnamon compiler to compiler our program down to the Cinnamon ISA. "
   ]
  },
  {
   "cell_type": "markdown",
   "metadata": {},
   "source": [
    "First, lets create a folder for the outputs of the compilation"
   ]
  },
  {
   "cell_type": "code",
   "execution_count": 4,
   "metadata": {},
   "outputs": [],
   "source": [
    "add_program_dir = \"add_program_outputs\"\n",
    "!mkdir -p \"{add_program_dir}\""
   ]
  },
  {
   "cell_type": "markdown",
   "metadata": {},
   "source": [
    "Now let's use the Cinnamon compiler to compile our program."
   ]
  },
  {
   "cell_type": "code",
   "execution_count": null,
   "metadata": {},
   "outputs": [],
   "source": [
    "cinnamon_compile(add_program,TOP_LEVEL,1,1024,f\"{add_program_dir}/\")"
   ]
  },
  {
   "cell_type": "markdown",
   "metadata": {},
   "source": [
    "Once the compilation is done, you will be able to see the outputs of the compilation in the `add_program_dir` directory. There will be two kinds of outputs: inputs and instructions. The inputs file contains the mapping from user specified symbols for the inputs and outputs and the instructions file contains the actual instructions in the Cinnamon assembly."
   ]
  },
  {
   "cell_type": "markdown",
   "metadata": {},
   "source": [
    "### Exercise 1.3: Emulating The Program\n",
    "Now that we have compiled the program, we want to test our program and the compiler output. To do so, we use the Cinnamon Emulator. The Cinnamon Emulator reads in Cinnamon assembly and emulates the instructions on a CPU. But before, we do that, we need to actually assign values and scale information to our program inputs and outputs."
   ]
  },
  {
   "cell_type": "markdown",
   "metadata": {},
   "source": [
    "First, let's import the cinnamon emulator"
   ]
  },
  {
   "cell_type": "code",
   "execution_count": 6,
   "metadata": {},
   "outputs": [],
   "source": [
    "import cinnamon_emulator"
   ]
  },
  {
   "cell_type": "markdown",
   "metadata": {},
   "source": [
    "We need to define some parameters here.\n",
    "`SLOTS=32*1024` and `RNS_PRIMES`. `SLOTS` is the number of plaintext values each ciphertext object holds. This is usually a power of 2. For CKKS, a slot size of 32K is typically used. All homomorphic operations take place in a SIMD over the slots.\n",
    "\n",
    "`RNS_PRIMES` is a list of primes that we intend to use as the basis in the [Residue Number System(RNS)](). CKKS ciphertexts are composed of elements from a modular ring. The modulus is typically a very large integer, on the order of 1000s of bits. Arithmetic over such large integers is very slow. However, if the ciphertext modulus is carefully chosen as a product of a list of special primes, the Reisude Number System (RNS) can be used to speedup the artimetic. `RNS_PRIMES` correspond to this list of primes. \n",
    "\n",
    "Since the Cinnamon archtecture is designed to work with 28bit primes, we select all our RNS Primes to be 28bit values. \n",
    "The ratio of `SLOTS` to the product of the `RNS_PRIMES` determines the security of the scheme. We select values for a 128 bit security level."
   ]
  },
  {
   "cell_type": "code",
   "execution_count": 7,
   "metadata": {},
   "outputs": [],
   "source": [
    "# These parameters are for 128 bit security\n",
    "SLOTS = 32*1024\n",
    "RNS_PRIMES = [204865537, 205651969, 206307329, 207880193, 209059841, 210370561, 211025921, 211812353, 214171649, 215482369, 215744513, 216137729, 216924161, 217317377, 218628097, 219676673, 220594177, 221249537, 222035969, 222167041, 222953473, 223215617, 224002049, 224133121, 225574913, 228065281, 228458497, 228720641, 230424577, 230686721, 230817793, 231473153, 232390657, 232652801, 234356737, 235798529, 236584961, 236716033, 239337473, 239861761, 240648193, 241827841, 244842497, 244973569, 245235713, 245760001, 246415361, 249561089, 253100033, 253493249, 254279681, 256376833, 256770049, 257949697, 258605057, 260571137, 260702209, 261488641, 261881857, 263323649, 263454721, 264634369, 265420801, 268042241]"
   ]
  },
  {
   "cell_type": "markdown",
   "metadata": {},
   "source": [
    "Now lets create our inputs and output specifications. Input values must be vectors of `SLOTS` values."
   ]
  },
  {
   "cell_type": "code",
   "execution_count": 8,
   "metadata": {},
   "outputs": [],
   "source": [
    "add_program_inputs = {}\n",
    "add_program_output_scales = {}\n",
    "\n",
    "import numpy as np\n",
    "x = np.array([i % 64 for i in range(SLOTS)])\n",
    "# TODO: Initialize y to an array of size SLOTS\n",
    "y = np.array()\n",
    "\n",
    "SCALE = 1 << 56\n",
    "add_program_inputs[\"x\"] = (x,SCALE)\n",
    "# TODO: Set the scales for inputs y and output z\n",
    "add_program_inputs[\"y\"] = (,)\n",
    "add_program_output_scales[\"z\"] = "
   ]
  },
  {
   "cell_type": "markdown",
   "metadata": {},
   "source": [
    "Let's create a secret key to encrypt and decrypt our values. For 128 bit security, we generate a ternary key with a hamming weight of `SLOTS`."
   ]
  },
  {
   "cell_type": "code",
   "execution_count": 9,
   "metadata": {},
   "outputs": [],
   "source": [
    "import random\n",
    "random.seed(10)\n",
    "def generate_secret_key(Slots,HammingWeight=32):\n",
    "    secretKey = [0]*(2*Slots)\n",
    "    count = 0\n",
    "    while count < HammingWeight:\n",
    "        pos = random.randint(0,2*Slots-1)\n",
    "        if secretKey[pos] != 0:\n",
    "            continue\n",
    "        val = random.randint(0,1)\n",
    "        if val == 0:\n",
    "            secretKey[pos] = -1\n",
    "        elif val == 1:\n",
    "            secretKey[pos] = 1\n",
    "        else:\n",
    "            raise Exception(\"\")\n",
    "        count += 1\n",
    "    return secretKey\n",
    "\n",
    "secretKey = generate_secret_key(SLOTS,HammingWeight=SLOTS)"
   ]
  },
  {
   "cell_type": "markdown",
   "metadata": {},
   "source": [
    "Now let's create the ciphertexts and run the encrypted program. First we create a context object with information about `SLOTS` and `RNS_PRIMES`."
   ]
  },
  {
   "cell_type": "code",
   "execution_count": 10,
   "metadata": {},
   "outputs": [],
   "source": [
    "context = cinnamon_emulator.Context(SLOTS,RNS_PRIMES)"
   ]
  },
  {
   "cell_type": "markdown",
   "metadata": {},
   "source": [
    "Then we create an encryptor with information about our secret key to perform the encryption."
   ]
  },
  {
   "cell_type": "code",
   "execution_count": 11,
   "metadata": {},
   "outputs": [],
   "source": [
    "encryptor = cinnamon_emulator.CKKSEncryptor(context,secretKey)"
   ]
  },
  {
   "cell_type": "markdown",
   "metadata": {},
   "source": [
    "Finnaly, we create an emulator object."
   ]
  },
  {
   "cell_type": "code",
   "execution_count": 12,
   "metadata": {},
   "outputs": [],
   "source": [
    "emulator = cinnamon_emulator.Emulator(context)"
   ]
  },
  {
   "cell_type": "markdown",
   "metadata": {},
   "source": [
    "Now let's create the ciphertext and plaintext inputs to the program."
   ]
  },
  {
   "cell_type": "code",
   "execution_count": null,
   "metadata": {},
   "outputs": [],
   "source": [
    "\n",
    "emulator.generate_and_serialize_evalkeys(f\"{add_program_dir}/evalkeys\",f\"{add_program_dir}/program_inputs\",encryptor)\n",
    "emulator.generate_inputs(f\"{add_program_dir}/program_inputs\",f\"{add_program_dir}/evalkeys\",add_program_inputs,encryptor)"
   ]
  },
  {
   "cell_type": "code",
   "execution_count": null,
   "metadata": {},
   "outputs": [],
   "source": [
    "\n",
    "emulator.run_program(f\"{add_program_dir}/instructions\",1,1024)"
   ]
  },
  {
   "cell_type": "markdown",
   "metadata": {},
   "source": [
    "Once the program completes, we can get the decrypt the outputs and return them. The actual output will be an array of size `SLOTS`. For brevity, let's print the first 10 values."
   ]
  },
  {
   "cell_type": "code",
   "execution_count": null,
   "metadata": {},
   "outputs": [],
   "source": [
    "outputs = emulator.get_decrypted_outputs(encryptor,add_program_output_scales)\n",
    "decrypted_z = outputs[\"z\"]\n",
    "print(\"Decrypted z: \",decrypted_z[0:10])"
   ]
  },
  {
   "cell_type": "markdown",
   "metadata": {},
   "source": [
    "You might have noticed that the output of the program is actually an array of complex numbers. This is because the CKKS scheme actually operates over complex numbers and not real numbers. \n",
    "\n",
    "Let's convert the values to real values by dropping the complex part and compare them to the expected output."
   ]
  },
  {
   "cell_type": "code",
   "execution_count": null,
   "metadata": {},
   "outputs": [],
   "source": [
    "decrypted_z_real = [i.real for i in decrypted_z]\n",
    "z = x+y\n",
    "mse = np.mean(np.square(decrypted_z_real - z))\n",
    "print(f\"Encrypted Output: {decrypted_z_real[0:10]}\")\n",
    "print(f\"Expected Ouptut:  {z[0:10]}\")\n",
    "print(f\"Mean Square Error: {mse}\")"
   ]
  },
  {
   "cell_type": "markdown",
   "metadata": {},
   "source": [
    "You will notice that the values in the encrypted output are approximate. The precision of the approximation is controlled by the `SCALE` we set when creating the inputs. I encourage you to experiment with different values of `SCALE` to see how it changes the precision of the output."
   ]
  },
  {
   "cell_type": "markdown",
   "metadata": {},
   "source": [
    "Congratulations! You have just written your first program in the Cinnamon framework and completed Exercise 1 of the tutorial."
   ]
  },
  {
   "cell_type": "markdown",
   "metadata": {},
   "source": [
    "## Exercise 2: Multiplication and Rotation of Encrypted Values\n",
    "In this exercise, we will implement the operations of multiplication (*) and rotation (<<) on ciphertexts in Cinnamon"
   ]
  },
  {
   "cell_type": "markdown",
   "metadata": {},
   "source": [
    "### Exercise 2.1 Writing and Compiling the Cinnamon Program"
   ]
  },
  {
   "cell_type": "markdown",
   "metadata": {},
   "source": [
    "Similar to Exercise 1.1, let's create a Cinnamon Program named `multiply_and_rotate` with two CiphertextInputs x and y. We multiply the ciphertexts using the inplace operator `*`. After multiplying two ciphertexts, we call the `.relinearize()` method to relinearize the Ciphertexts. Relinearization is required to bring the ciphertexts back to a usable form for further computation after a multiplication. Next, we left rotate the ciphertext using the `<<` inplace operator and specifying the rotation step size (2 in this example).\n",
    "\n",
    "Finally, we need to rescale the Ciphertexts. This is because multiplcation of two operands also multiplies their scales. In the Cinnamon DSL, you can get the scale of any object using the `.scale()` method. \n",
    "\n",
    "Rescaling of ciphertexts is done through the `.rescale()` method. Rescaling divides the scale of the ciphertext by the `RNS_PRIME` corresponding to the level. Since we use 28bit RNS_PRIMES, we set the rns_bit_size argument of the `CinnamonProgram` to 28 in this example. Thus, a call to `.rescale()` will reduce the scale by 28."
   ]
  },
  {
   "cell_type": "code",
   "execution_count": null,
   "metadata": {},
   "outputs": [],
   "source": [
    "multiply_rotate_program = CinnamonProgram(\"multiply_and_rotate\",rns_bit_size=28,num_chips=1)\n",
    "with multiply_rotate_program:\n",
    "    level = TOP_LEVEL\n",
    "    scale = 56 # scale in bits\n",
    "    x = CiphertextInput(\"x\",scale,level)\n",
    "    y = CiphertextInput(\"y\",scale,level)\n",
    "    # TODO: Set z to be product of x and y\n",
    "    z = \n",
    "    # TODO: Relinearize z\n",
    "    z = \n",
    "    # TODO: Left rotate z by 2\n",
    "    z = \n",
    "    print(f\"z before rescale: scale: {z.scale()} level: {z.level()}\")\n",
    "    z = z.rescale().rescale()\n",
    "    print(f\"z after rescale:  scale: {z.scale()}  level: {z.level()}\")\n",
    "    Output(\"z\",z)"
   ]
  },
  {
   "cell_type": "markdown",
   "metadata": {},
   "source": [
    "Now let's compile the program"
   ]
  },
  {
   "cell_type": "code",
   "execution_count": null,
   "metadata": {},
   "outputs": [],
   "source": [
    "mul_rot_program_dir = \"mul_rot_program_outputs\"\n",
    "!mkdir -p \"{mul_rot_program_dir}\"\n",
    "cinnamon_compile(multiply_rotate_program,TOP_LEVEL,1,1024,f\"{mul_rot_program_dir}/\")"
   ]
  },
  {
   "cell_type": "markdown",
   "metadata": {},
   "source": [
    "### Exercise 2.2: Emulating The Program"
   ]
  },
  {
   "cell_type": "code",
   "execution_count": 19,
   "metadata": {},
   "outputs": [],
   "source": [
    "# These parameters are for 128 bit security\n",
    "SLOTS = 32*1024\n",
    "RNS_PRIMES = [204865537, 205651969, 206307329, 207880193, 209059841, 210370561, 211025921, 211812353, 214171649, 215482369, 215744513, 216137729, 216924161, 217317377, 218628097, 219676673, 220594177, 221249537, 222035969, 222167041, 222953473, 223215617, 224002049, 224133121, 225574913, 228065281, 228458497, 228720641, 230424577, 230686721, 230817793, 231473153, 232390657, 232652801, 234356737, 235798529, 236584961, 236716033, 239337473, 239861761, 240648193, 241827841, 244842497, 244973569, 245235713, 245760001, 246415361, 249561089, 253100033, 253493249, 254279681, 256376833, 256770049, 257949697, 258605057, 260571137, 260702209, 261488641, 261881857, 263323649, 263454721, 264634369, 265420801, 268042241]"
   ]
  },
  {
   "cell_type": "code",
   "execution_count": 20,
   "metadata": {},
   "outputs": [],
   "source": [
    "mul_rot_program_inputs = {}\n",
    "mul_rot_program_output_scales = {}\n",
    "\n",
    "import numpy as np\n",
    "x = np.array([i % 64 for i in range(SLOTS)])\n",
    "# TODO: Initialize y to  an array of size SLOTS\n",
    "y = np.array()\n",
    "\n",
    "SCALE = 1 << 56\n",
    "level = TOP_LEVEL\n",
    "mul_rot_program_inputs[\"x\"] = (x,SCALE)\n",
    "mul_rot_program_inputs[\"y\"] = (y,SCALE)\n",
    "z_scale_before_rescale = SCALE * SCALE\n",
    "z_scale_after_rescale = z_scale_before_rescale / (RNS_PRIMES[level -1]*RNS_PRIMES[level - 2])\n",
    "mul_rot_program_output_scales[\"z\"] = z_scale_after_rescale"
   ]
  },
  {
   "cell_type": "code",
   "execution_count": null,
   "metadata": {},
   "outputs": [],
   "source": [
    "context = cinnamon_emulator.Context(SLOTS,RNS_PRIMES)\n",
    "encryptor = cinnamon_emulator.CKKSEncryptor(context,secretKey)\n",
    "emulator = cinnamon_emulator.Emulator(context)\n",
    "\n",
    "base_dir = mul_rot_program_dir\n",
    "emulator.generate_and_serialize_evalkeys(f\"{base_dir}/evalkeys\",f\"{base_dir}/program_inputs\",encryptor)\n",
    "emulator.generate_inputs(f\"{base_dir}/program_inputs\",f\"{base_dir}/evalkeys\",mul_rot_program_inputs,encryptor)\n",
    "emulator.run_program(f\"{base_dir}/instructions\",1,1024)\n",
    "emulator_outputs = emulator.get_decrypted_outputs(encryptor,mul_rot_program_output_scales)"
   ]
  },
  {
   "cell_type": "code",
   "execution_count": null,
   "metadata": {},
   "outputs": [],
   "source": [
    "decrypted_z = emulator_outputs[\"z\"]\n",
    "decrypted_z_real = [i.real for i in decrypted_z]\n",
    "\n",
    "def rotate(x,n):\n",
    "    return np.concat((x[n:], x[:n]))\n",
    "z = rotate(x * y,2)\n",
    "mse = np.mean(np.square(decrypted_z_real - z))\n",
    "print(f\"Encrypted Output: {decrypted_z_real[0:10]}\")\n",
    "print(f\"Expected Ouptut:  {z[0:10]}\")\n",
    "print(f\"Mean Square Error: {mse}\")"
   ]
  },
  {
   "cell_type": "markdown",
   "metadata": {},
   "source": [
    "Congratulations! This marks the end of notebook1. In [notebook2](../notebook2/notebook2.ipynb), we will write and run an actual encrypted AI inference using Cinnamon."
   ]
  }
 ],
 "metadata": {
  "kernelspec": {
   "display_name": "Python 3",
   "language": "python",
   "name": "python3"
  },
  "language_info": {
   "codemirror_mode": {
    "name": "ipython",
    "version": 3
   },
   "file_extension": ".py",
   "mimetype": "text/x-python",
   "name": "python",
   "nbconvert_exporter": "python",
   "pygments_lexer": "ipython3",
   "version": "3.10.12"
  }
 },
 "nbformat": 4,
 "nbformat_minor": 4
}
